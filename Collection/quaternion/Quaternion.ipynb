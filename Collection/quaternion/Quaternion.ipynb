{
 "cells": [
  {
   "cell_type": "code",
   "execution_count": 40,
   "metadata": {
    "collapsed": false
   },
   "outputs": [],
   "source": [
    "import math\n",
    "\n",
    "class quaternion:\n",
    "    w=0.0\n",
    "    x=0.0\n",
    "    y=0.0\n",
    "    z=0.0\n",
    "    \n",
    "    def __init__(self, a=0.0, b=0.0, c=0.0, d=0.0):\n",
    "        self.w= math.cos(a/2)\n",
    "        self.x= b*math.sin(a/2)\n",
    "        self.y= c*math.sin(a/2)\n",
    "        self.z= d*math.sin(a/2)\n",
    "        \n",
    "    def __mul__(self, b):\n",
    "        temp = quaternion()\n",
    "\n",
    "        temp.w = self.w*b.w - self.x*b.x - self.y*b.y - self.z*b.z\n",
    "        temp.x = self.w*b.x + self.x*b.w + self.y*b.z - self.z*b.y\n",
    "        temp.y = self.w*b.y - self.x*b.z + self.y*b.w + self.z*b.x\n",
    "        temp.z = self.w*b.z + self.x*b.y - self.y*b.x + self.z*b.w\n",
    "        return temp\n",
    "    \n",
    "    def __add__(self, a):\n",
    "        temp1 = quaternion()\n",
    "        \n",
    "        temp1.w = self.w + a.w\n",
    "        temp1.x = self.x + a.x\n",
    "        temp1.y = self.y + a.y\n",
    "        temp1.z = self.z + a.z\n",
    "        return temp1\n",
    "    \n",
    "    def conjugate(self):\n",
    "        temp2 = quaternion()\n",
    "        temp2.w = self.w\n",
    "        temp2.x = -1*self.x\n",
    "        temp2.y = -1*self.y\n",
    "        temp2.z = -1*self.z\n",
    "        return temp2\n",
    "    \n",
    "    def mag(self):\n",
    "        return math.pow( (self.w*self.w + self.x*self.x + self.y*self.y + self.z*self.z), 0.5)\n",
    "    \n",
    "    def show(self):\n",
    "        print \"w=\" + str(self.w) + \"  x=\" + str(self.x) + \"  y=\" + str(self.y) + \"  z=\" + str(self.z)\n",
    "        \n",
    "        \n",
    "class vector(quaternion):\n",
    "    def __init__(self, a=0, b=0, c=0):\n",
    "        self.w =0\n",
    "        self.x =a\n",
    "        self.y =b\n",
    "        self.z =c\n",
    "        \n",
    "    def mag(self):\n",
    "        return math.pow(  (self.x*self.x + self.y*self.y + self.z*self.z) ,0.5)\n",
    "        \n",
    "    def show(self):\n",
    "        print \"x= \" + str(self.x) + \" y= \" + str(self.y) + \" z= \" + str(self.z)\n",
    "        \n",
    "    \n",
    "        \n",
    "        "
   ]
  },
  {
   "cell_type": "code",
   "execution_count": 41,
   "metadata": {
    "collapsed": false
   },
   "outputs": [
    {
     "name": "stdout",
     "output_type": "stream",
     "text": [
      "Magnitude of a 7.60995632147\n",
      "w=57.9114352146  x=0.0  y=0.0  z=-2.22044604925e-16\n",
      "7.60995632147\n"
     ]
    }
   ],
   "source": [
    "a = quaternion(3.2, 1, 4, 6.4)\n",
    "print \"Magnitude of a \" + str(a.mag())\n",
    "\n",
    "t1 = a*a.conjugate()\n",
    "t1.show()\n",
    "print math.pow(t1.w, 0.5)\n"
   ]
  },
  {
   "cell_type": "code",
   "execution_count": 45,
   "metadata": {
    "collapsed": false
   },
   "outputs": [
    {
     "name": "stdout",
     "output_type": "stream",
     "text": [
      "Original vector:\n",
      "x= 2 y= 0 z= 1\n",
      "Rotated Vector: \n",
      "x= 1.73205080757 y= 1.0 z= 1.0\n"
     ]
    }
   ],
   "source": [
    "#Vector to be rotated\n",
    "vr = vector(2, 0, 1)\n",
    "print \"Original vector:\"\n",
    "vr.show()\n",
    "\n",
    "#Angle in degree\n",
    "ang = 30\n",
    "ang = math.radians(ang)\n",
    "\n",
    "#quaternion for rotation\n",
    "qr = quaternion(ang, 0, 0, 1)\n",
    "\n",
    "\n",
    "#Calculations\n",
    "\n",
    "vrR = qr*vr\n",
    "vrR = vrR*qr.conjugate()\n",
    "vrR.__class__ = vector\n",
    "print \"Rotated Vector: \"\n",
    "vrR.show()\n"
   ]
  },
  {
   "cell_type": "code",
   "execution_count": null,
   "metadata": {
    "collapsed": true
   },
   "outputs": [],
   "source": []
  }
 ],
 "metadata": {
  "kernelspec": {
   "display_name": "Python 2",
   "language": "python",
   "name": "python2"
  },
  "language_info": {
   "codemirror_mode": {
    "name": "ipython",
    "version": 2
   },
   "file_extension": ".py",
   "mimetype": "text/x-python",
   "name": "python",
   "nbconvert_exporter": "python",
   "pygments_lexer": "ipython2",
   "version": "2.7.9"
  }
 },
 "nbformat": 4,
 "nbformat_minor": 0
}
